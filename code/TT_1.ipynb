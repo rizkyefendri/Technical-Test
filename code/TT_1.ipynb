{
  "nbformat": 4,
  "nbformat_minor": 0,
  "metadata": {
    "colab": {
      "provenance": []
    },
    "kernelspec": {
      "name": "python3",
      "display_name": "Python 3"
    },
    "language_info": {
      "name": "python"
    }
  },
  "cells": [
    {
      "cell_type": "markdown",
      "source": [
        "#Healtcare Dataset\n",
        "\n"
      ],
      "metadata": {
        "id": "v6MdEVlW5ThP"
      }
    },
    {
      "cell_type": "markdown",
      "source": [
        "### Instructions\n",
        "\n",
        "\n",
        "\n",
        "1.       **Python Coding**, Write  a  Python  function  to normalize a dataset. The function should take a list of numbers as input and return the normalized list.\n",
        "2.      **Data Manipulation with Pandas**, Given a healthcare dataset with columns PatientID, Age, BMI, BloodPressure, and Outcome (Outcome indicates whether the patient has a certain disease, 1 for yes and 0 for no), write a Python script to:\n",
        "i.             Load the data into a Pandas DataFrame.\n",
        "ii.             Calculate    the    mean    and    standard    deviation    of    the    Age    and    BMI columns.\n",
        "iii.             Filter   the   DataFrame   to   include   only   patients   with   a   BloodPressure higher than 130.\n",
        "3.      **Data Visualization**, Using  Matplotlib  or  Seaborn,  create  a  plot  to  visualize  the  distribution  of  Age and BMI in the dataset. Provide your insights based on the visualization.\n"
      ],
      "metadata": {
        "id": "CSe5aE9p5gpb"
      }
    },
    {
      "cell_type": "code",
      "execution_count": 1,
      "metadata": {
        "id": "xfTyuRpu3EYo"
      },
      "outputs": [],
      "source": [
        "import pandas as pd"
      ]
    },
    {
      "cell_type": "code",
      "source": [
        "# Load the dataset\n",
        "file_path = '/content/drive/MyDrive/Dataset/Technical Test/healthcare.csv'\n",
        "df = pd.read_csv(file_path)"
      ],
      "metadata": {
        "id": "BTHUK7iW3ky1"
      },
      "execution_count": 3,
      "outputs": []
    },
    {
      "cell_type": "code",
      "source": [
        "df.tail()"
      ],
      "metadata": {
        "colab": {
          "base_uri": "https://localhost:8080/",
          "height": 206
        },
        "id": "mDjP98nv3xQp",
        "outputId": "e18963c9-cb33-492d-8745-d3f7b880f3a2"
      },
      "execution_count": 4,
      "outputs": [
        {
          "output_type": "execute_result",
          "data": {
            "text/plain": [
              "     PatientID  Age   BMI  BloodPressure  Outcome\n",
              "763        764   63  32.9             76        0\n",
              "764        765   27  36.8             70        0\n",
              "765        766   30  26.2             72        0\n",
              "766        767   47  30.1             60        1\n",
              "767        768   23  30.4             70        0"
            ],
            "text/html": [
              "\n",
              "  <div id=\"df-c55b9675-e6fe-49e6-a91a-182f563d4d94\" class=\"colab-df-container\">\n",
              "    <div>\n",
              "<style scoped>\n",
              "    .dataframe tbody tr th:only-of-type {\n",
              "        vertical-align: middle;\n",
              "    }\n",
              "\n",
              "    .dataframe tbody tr th {\n",
              "        vertical-align: top;\n",
              "    }\n",
              "\n",
              "    .dataframe thead th {\n",
              "        text-align: right;\n",
              "    }\n",
              "</style>\n",
              "<table border=\"1\" class=\"dataframe\">\n",
              "  <thead>\n",
              "    <tr style=\"text-align: right;\">\n",
              "      <th></th>\n",
              "      <th>PatientID</th>\n",
              "      <th>Age</th>\n",
              "      <th>BMI</th>\n",
              "      <th>BloodPressure</th>\n",
              "      <th>Outcome</th>\n",
              "    </tr>\n",
              "  </thead>\n",
              "  <tbody>\n",
              "    <tr>\n",
              "      <th>763</th>\n",
              "      <td>764</td>\n",
              "      <td>63</td>\n",
              "      <td>32.9</td>\n",
              "      <td>76</td>\n",
              "      <td>0</td>\n",
              "    </tr>\n",
              "    <tr>\n",
              "      <th>764</th>\n",
              "      <td>765</td>\n",
              "      <td>27</td>\n",
              "      <td>36.8</td>\n",
              "      <td>70</td>\n",
              "      <td>0</td>\n",
              "    </tr>\n",
              "    <tr>\n",
              "      <th>765</th>\n",
              "      <td>766</td>\n",
              "      <td>30</td>\n",
              "      <td>26.2</td>\n",
              "      <td>72</td>\n",
              "      <td>0</td>\n",
              "    </tr>\n",
              "    <tr>\n",
              "      <th>766</th>\n",
              "      <td>767</td>\n",
              "      <td>47</td>\n",
              "      <td>30.1</td>\n",
              "      <td>60</td>\n",
              "      <td>1</td>\n",
              "    </tr>\n",
              "    <tr>\n",
              "      <th>767</th>\n",
              "      <td>768</td>\n",
              "      <td>23</td>\n",
              "      <td>30.4</td>\n",
              "      <td>70</td>\n",
              "      <td>0</td>\n",
              "    </tr>\n",
              "  </tbody>\n",
              "</table>\n",
              "</div>\n",
              "    <div class=\"colab-df-buttons\">\n",
              "\n",
              "  <div class=\"colab-df-container\">\n",
              "    <button class=\"colab-df-convert\" onclick=\"convertToInteractive('df-c55b9675-e6fe-49e6-a91a-182f563d4d94')\"\n",
              "            title=\"Convert this dataframe to an interactive table.\"\n",
              "            style=\"display:none;\">\n",
              "\n",
              "  <svg xmlns=\"http://www.w3.org/2000/svg\" height=\"24px\" viewBox=\"0 -960 960 960\">\n",
              "    <path d=\"M120-120v-720h720v720H120Zm60-500h600v-160H180v160Zm220 220h160v-160H400v160Zm0 220h160v-160H400v160ZM180-400h160v-160H180v160Zm440 0h160v-160H620v160ZM180-180h160v-160H180v160Zm440 0h160v-160H620v160Z\"/>\n",
              "  </svg>\n",
              "    </button>\n",
              "\n",
              "  <style>\n",
              "    .colab-df-container {\n",
              "      display:flex;\n",
              "      gap: 12px;\n",
              "    }\n",
              "\n",
              "    .colab-df-convert {\n",
              "      background-color: #E8F0FE;\n",
              "      border: none;\n",
              "      border-radius: 50%;\n",
              "      cursor: pointer;\n",
              "      display: none;\n",
              "      fill: #1967D2;\n",
              "      height: 32px;\n",
              "      padding: 0 0 0 0;\n",
              "      width: 32px;\n",
              "    }\n",
              "\n",
              "    .colab-df-convert:hover {\n",
              "      background-color: #E2EBFA;\n",
              "      box-shadow: 0px 1px 2px rgba(60, 64, 67, 0.3), 0px 1px 3px 1px rgba(60, 64, 67, 0.15);\n",
              "      fill: #174EA6;\n",
              "    }\n",
              "\n",
              "    .colab-df-buttons div {\n",
              "      margin-bottom: 4px;\n",
              "    }\n",
              "\n",
              "    [theme=dark] .colab-df-convert {\n",
              "      background-color: #3B4455;\n",
              "      fill: #D2E3FC;\n",
              "    }\n",
              "\n",
              "    [theme=dark] .colab-df-convert:hover {\n",
              "      background-color: #434B5C;\n",
              "      box-shadow: 0px 1px 3px 1px rgba(0, 0, 0, 0.15);\n",
              "      filter: drop-shadow(0px 1px 2px rgba(0, 0, 0, 0.3));\n",
              "      fill: #FFFFFF;\n",
              "    }\n",
              "  </style>\n",
              "\n",
              "    <script>\n",
              "      const buttonEl =\n",
              "        document.querySelector('#df-c55b9675-e6fe-49e6-a91a-182f563d4d94 button.colab-df-convert');\n",
              "      buttonEl.style.display =\n",
              "        google.colab.kernel.accessAllowed ? 'block' : 'none';\n",
              "\n",
              "      async function convertToInteractive(key) {\n",
              "        const element = document.querySelector('#df-c55b9675-e6fe-49e6-a91a-182f563d4d94');\n",
              "        const dataTable =\n",
              "          await google.colab.kernel.invokeFunction('convertToInteractive',\n",
              "                                                    [key], {});\n",
              "        if (!dataTable) return;\n",
              "\n",
              "        const docLinkHtml = 'Like what you see? Visit the ' +\n",
              "          '<a target=\"_blank\" href=https://colab.research.google.com/notebooks/data_table.ipynb>data table notebook</a>'\n",
              "          + ' to learn more about interactive tables.';\n",
              "        element.innerHTML = '';\n",
              "        dataTable['output_type'] = 'display_data';\n",
              "        await google.colab.output.renderOutput(dataTable, element);\n",
              "        const docLink = document.createElement('div');\n",
              "        docLink.innerHTML = docLinkHtml;\n",
              "        element.appendChild(docLink);\n",
              "      }\n",
              "    </script>\n",
              "  </div>\n",
              "\n",
              "\n",
              "<div id=\"df-2d6b5321-ee8a-4b27-aefa-7bf4377b31a9\">\n",
              "  <button class=\"colab-df-quickchart\" onclick=\"quickchart('df-2d6b5321-ee8a-4b27-aefa-7bf4377b31a9')\"\n",
              "            title=\"Suggest charts\"\n",
              "            style=\"display:none;\">\n",
              "\n",
              "<svg xmlns=\"http://www.w3.org/2000/svg\" height=\"24px\"viewBox=\"0 0 24 24\"\n",
              "     width=\"24px\">\n",
              "    <g>\n",
              "        <path d=\"M19 3H5c-1.1 0-2 .9-2 2v14c0 1.1.9 2 2 2h14c1.1 0 2-.9 2-2V5c0-1.1-.9-2-2-2zM9 17H7v-7h2v7zm4 0h-2V7h2v10zm4 0h-2v-4h2v4z\"/>\n",
              "    </g>\n",
              "</svg>\n",
              "  </button>\n",
              "\n",
              "<style>\n",
              "  .colab-df-quickchart {\n",
              "      --bg-color: #E8F0FE;\n",
              "      --fill-color: #1967D2;\n",
              "      --hover-bg-color: #E2EBFA;\n",
              "      --hover-fill-color: #174EA6;\n",
              "      --disabled-fill-color: #AAA;\n",
              "      --disabled-bg-color: #DDD;\n",
              "  }\n",
              "\n",
              "  [theme=dark] .colab-df-quickchart {\n",
              "      --bg-color: #3B4455;\n",
              "      --fill-color: #D2E3FC;\n",
              "      --hover-bg-color: #434B5C;\n",
              "      --hover-fill-color: #FFFFFF;\n",
              "      --disabled-bg-color: #3B4455;\n",
              "      --disabled-fill-color: #666;\n",
              "  }\n",
              "\n",
              "  .colab-df-quickchart {\n",
              "    background-color: var(--bg-color);\n",
              "    border: none;\n",
              "    border-radius: 50%;\n",
              "    cursor: pointer;\n",
              "    display: none;\n",
              "    fill: var(--fill-color);\n",
              "    height: 32px;\n",
              "    padding: 0;\n",
              "    width: 32px;\n",
              "  }\n",
              "\n",
              "  .colab-df-quickchart:hover {\n",
              "    background-color: var(--hover-bg-color);\n",
              "    box-shadow: 0 1px 2px rgba(60, 64, 67, 0.3), 0 1px 3px 1px rgba(60, 64, 67, 0.15);\n",
              "    fill: var(--button-hover-fill-color);\n",
              "  }\n",
              "\n",
              "  .colab-df-quickchart-complete:disabled,\n",
              "  .colab-df-quickchart-complete:disabled:hover {\n",
              "    background-color: var(--disabled-bg-color);\n",
              "    fill: var(--disabled-fill-color);\n",
              "    box-shadow: none;\n",
              "  }\n",
              "\n",
              "  .colab-df-spinner {\n",
              "    border: 2px solid var(--fill-color);\n",
              "    border-color: transparent;\n",
              "    border-bottom-color: var(--fill-color);\n",
              "    animation:\n",
              "      spin 1s steps(1) infinite;\n",
              "  }\n",
              "\n",
              "  @keyframes spin {\n",
              "    0% {\n",
              "      border-color: transparent;\n",
              "      border-bottom-color: var(--fill-color);\n",
              "      border-left-color: var(--fill-color);\n",
              "    }\n",
              "    20% {\n",
              "      border-color: transparent;\n",
              "      border-left-color: var(--fill-color);\n",
              "      border-top-color: var(--fill-color);\n",
              "    }\n",
              "    30% {\n",
              "      border-color: transparent;\n",
              "      border-left-color: var(--fill-color);\n",
              "      border-top-color: var(--fill-color);\n",
              "      border-right-color: var(--fill-color);\n",
              "    }\n",
              "    40% {\n",
              "      border-color: transparent;\n",
              "      border-right-color: var(--fill-color);\n",
              "      border-top-color: var(--fill-color);\n",
              "    }\n",
              "    60% {\n",
              "      border-color: transparent;\n",
              "      border-right-color: var(--fill-color);\n",
              "    }\n",
              "    80% {\n",
              "      border-color: transparent;\n",
              "      border-right-color: var(--fill-color);\n",
              "      border-bottom-color: var(--fill-color);\n",
              "    }\n",
              "    90% {\n",
              "      border-color: transparent;\n",
              "      border-bottom-color: var(--fill-color);\n",
              "    }\n",
              "  }\n",
              "</style>\n",
              "\n",
              "  <script>\n",
              "    async function quickchart(key) {\n",
              "      const quickchartButtonEl =\n",
              "        document.querySelector('#' + key + ' button');\n",
              "      quickchartButtonEl.disabled = true;  // To prevent multiple clicks.\n",
              "      quickchartButtonEl.classList.add('colab-df-spinner');\n",
              "      try {\n",
              "        const charts = await google.colab.kernel.invokeFunction(\n",
              "            'suggestCharts', [key], {});\n",
              "      } catch (error) {\n",
              "        console.error('Error during call to suggestCharts:', error);\n",
              "      }\n",
              "      quickchartButtonEl.classList.remove('colab-df-spinner');\n",
              "      quickchartButtonEl.classList.add('colab-df-quickchart-complete');\n",
              "    }\n",
              "    (() => {\n",
              "      let quickchartButtonEl =\n",
              "        document.querySelector('#df-2d6b5321-ee8a-4b27-aefa-7bf4377b31a9 button');\n",
              "      quickchartButtonEl.style.display =\n",
              "        google.colab.kernel.accessAllowed ? 'block' : 'none';\n",
              "    })();\n",
              "  </script>\n",
              "</div>\n",
              "\n",
              "    </div>\n",
              "  </div>\n"
            ],
            "application/vnd.google.colaboratory.intrinsic+json": {
              "type": "dataframe",
              "summary": "{\n  \"name\": \"df\",\n  \"rows\": 5,\n  \"fields\": [\n    {\n      \"column\": \"PatientID\",\n      \"properties\": {\n        \"dtype\": \"number\",\n        \"std\": 1,\n        \"min\": 764,\n        \"max\": 768,\n        \"num_unique_values\": 5,\n        \"samples\": [\n          765,\n          768,\n          766\n        ],\n        \"semantic_type\": \"\",\n        \"description\": \"\"\n      }\n    },\n    {\n      \"column\": \"Age\",\n      \"properties\": {\n        \"dtype\": \"number\",\n        \"std\": 16,\n        \"min\": 23,\n        \"max\": 63,\n        \"num_unique_values\": 5,\n        \"samples\": [\n          27,\n          23,\n          30\n        ],\n        \"semantic_type\": \"\",\n        \"description\": \"\"\n      }\n    },\n    {\n      \"column\": \"BMI\",\n      \"properties\": {\n        \"dtype\": \"number\",\n        \"std\": 3.9073008586491,\n        \"min\": 26.2,\n        \"max\": 36.8,\n        \"num_unique_values\": 5,\n        \"samples\": [\n          36.8,\n          30.4,\n          26.2\n        ],\n        \"semantic_type\": \"\",\n        \"description\": \"\"\n      }\n    },\n    {\n      \"column\": \"BloodPressure\",\n      \"properties\": {\n        \"dtype\": \"number\",\n        \"std\": 5,\n        \"min\": 60,\n        \"max\": 76,\n        \"num_unique_values\": 4,\n        \"samples\": [\n          70,\n          60,\n          76\n        ],\n        \"semantic_type\": \"\",\n        \"description\": \"\"\n      }\n    },\n    {\n      \"column\": \"Outcome\",\n      \"properties\": {\n        \"dtype\": \"number\",\n        \"std\": 0,\n        \"min\": 0,\n        \"max\": 1,\n        \"num_unique_values\": 2,\n        \"samples\": [\n          1,\n          0\n        ],\n        \"semantic_type\": \"\",\n        \"description\": \"\"\n      }\n    }\n  ]\n}"
            }
          },
          "metadata": {},
          "execution_count": 4
        }
      ]
    },
    {
      "cell_type": "code",
      "source": [
        "def normalize(data):\n",
        "    \"\"\"Normalize a list of numbers.\"\"\"\n",
        "    min_val = min(data)\n",
        "    max_val = max(data)\n",
        "    return [(x - min_val) / (max_val - min_val) for x in data]\n",
        "\n",
        "# Example usage\n",
        "data = [10, 20, 30, 40, 50]\n",
        "normalized_data = normalize(data)\n",
        "print(normalized_data)"
      ],
      "metadata": {
        "colab": {
          "base_uri": "https://localhost:8080/"
        },
        "id": "NacXWEoL4Ikc",
        "outputId": "fc488bbc-366b-4016-ea56-621df1f9e7f0"
      },
      "execution_count": 5,
      "outputs": [
        {
          "output_type": "stream",
          "name": "stdout",
          "text": [
            "[0.0, 0.25, 0.5, 0.75, 1.0]\n"
          ]
        }
      ]
    },
    {
      "cell_type": "code",
      "source": [
        "# Calculate the mean and standard deviation of the Age and BMI columns\n",
        "mean_age = df['Age'].mean()\n",
        "std_age = df['Age'].std()\n",
        "mean_bmi = df['BMI'].mean()\n",
        "std_bmi = df['BMI'].std()\n",
        "\n",
        "# Filter the DataFrame to include only patients with a BloodPressure higher than 130\n",
        "filtered_df = df[df['BloodPressure'] > 130]\n",
        "\n",
        "print(\"Mean Age:\", mean_age)\n",
        "print(\"Standard Deviation Age:\", std_age)\n",
        "print(\"Mean BMI:\", mean_bmi)\n",
        "print(\"Standard Deviation BMI:\", std_bmi)\n",
        "print(\"\\nFiltered DataFrame:\")\n",
        "print(filtered_df)\n"
      ],
      "metadata": {
        "colab": {
          "base_uri": "https://localhost:8080/"
        },
        "id": "VJFNVXo83qPn",
        "outputId": "1292f5c6-1b0d-4639-94d5-1f51366cf7fb"
      },
      "execution_count": 15,
      "outputs": [
        {
          "output_type": "stream",
          "name": "stdout",
          "text": [
            "Mean Age: 33.240885416666664\n",
            "Standard Deviation Age: 11.760231540678685\n",
            "Mean BMI: 31.992578124999998\n",
            "Standard Deviation BMI: 7.884160320375446\n",
            "\n",
            "Filtered DataFrame:\n",
            "Empty DataFrame\n",
            "Columns: [PatientID, Age, BMI, BloodPressure, Outcome]\n",
            "Index: []\n"
          ]
        }
      ]
    },
    {
      "cell_type": "markdown",
      "source": [
        "### Step 2 Result :\n",
        "\n",
        "### Mean and Standard Deviation\n",
        "\n",
        "#### Age:\n",
        "- **Mean Age: 33.24**\n",
        "  - This value represents the average age of the patients in the dataset.\n",
        "  - An average age of 33.24 suggests that the population is relatively young.\n",
        "\n",
        "- **Standard Deviation Age: 11.76**\n",
        "  - This value measures the amount of variation or dispersion of ages from the mean.\n",
        "  - A standard deviation of 11.76 indicates a moderate spread of ages around the mean. In practical terms, most patients' ages fall within 11.76 years of the average age (i.e., between approximately 21.48 and 45.00 years).\n",
        "\n",
        "#### BMI:\n",
        "- **Mean BMI: 31.99**\n",
        "  - This value represents the average Body Mass Index (BMI) of the patients in the dataset.\n",
        "  - An average BMI of 31.99 suggests that the population tends towards being overweight or obese, given that a BMI over 30 is classified as obese.\n",
        "\n",
        "- **Standard Deviation BMI: 7.88**\n",
        "  - This value measures the amount of variation or dispersion of BMI values from the mean.\n",
        "  - A standard deviation of 7.88 indicates a considerable spread of BMI values around the mean. Most patients' BMIs fall within 7.88 units of the average BMI (i.e., between approximately 24.11 and 39.87).\n",
        "\n",
        "### Filtering by BloodPressure\n",
        "- **Filtered DataFrame:**\n",
        "  - The DataFrame was filtered to include only patients with a BloodPressure higher than 130.\n",
        "  - The resulting filtered DataFrame is empty, meaning there are no patients in the dataset with a BloodPressure greater than 130.\n",
        "\n",
        "This suggests that all patients in the dataset have a BloodPressure of 130 or lower. This could imply a generally healthy population in terms of blood pressure, or it could indicate a limitation or characteristic of the dataset used."
      ],
      "metadata": {
        "id": "Zbo87MYJ61XU"
      }
    },
    {
      "cell_type": "code",
      "source": [
        "import matplotlib.pyplot as plt\n",
        "import seaborn as sns\n",
        "\n",
        "# Plot the distribution of Age\n",
        "plt.figure(figsize=(12, 6))\n",
        "plt.subplot(1, 2, 1)\n",
        "sns.histplot(df['Age'], kde=True, bins=20)\n",
        "plt.title('Distribution of Age')\n",
        "\n",
        "# Plot the distribution of BMI\n",
        "plt.subplot(1, 2, 2)\n",
        "sns.histplot(df['BMI'], kde=True, bins=20)\n",
        "plt.title('Distribution of BMI')\n",
        "\n",
        "plt.tight_layout()\n",
        "plt.show()"
      ],
      "metadata": {
        "colab": {
          "base_uri": "https://localhost:8080/",
          "height": 569
        },
        "id": "H-VRq47a3op0",
        "outputId": "13143126-fa11-43fa-b3f2-7d47c6a564b9"
      },
      "execution_count": 7,
      "outputs": [
        {
          "output_type": "display_data",
          "data": {
            "text/plain": [
              "<Figure size 1200x600 with 2 Axes>"
            ],
            "image/png": "[encoded data removed]"
          },
          "metadata": {}
        }
      ]
    },
    {
      "cell_type": "markdown",
      "source": [
        "###Insights Based on the Visualization\n",
        "**Distribution of Age**:\n",
        "\n",
        "- The Age distribution shows a fairly uniform spread across different age groups with slight peaks around certain age ranges.\n",
        "There are no significant outliers or heavily skewed segments in the Age data.\n",
        "\n",
        "**Distribution of BMI**:\n",
        "\n",
        "- The BMI distribution shows a peak around the average BMI of 31.99.\n",
        "The distribution appears to be approximately normal with a slight skew towards higher BMI values."
      ],
      "metadata": {
        "id": "brxmCdHn79zT"
      }
    },
    {
      "cell_type": "code",
      "source": [],
      "metadata": {
        "id": "zdrDckVv4WTw"
      },
      "execution_count": null,
      "outputs": []
    }
  ]
}